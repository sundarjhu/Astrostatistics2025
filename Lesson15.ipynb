{
  "nbformat": 4,
  "nbformat_minor": 0,
  "metadata": {
    "colab": {
      "name": "Astrostatistics_Lecture15_20210610.ipynb",
      "provenance": [],
      "include_colab_link": true
    },
    "kernelspec": {
      "name": "python3",
      "display_name": "Python 3"
    }
  },
  "cells": [
    {
      "cell_type": "markdown",
      "metadata": {
        "id": "view-in-github",
        "colab_type": "text"
      },
      "source": [
        "<a href=\"https://colab.research.google.com/github/sundarjhu/Astrostatistics2025/blob/main/Lesson15.ipynb\" target=\"_parent\"><img src=\"https://colab.research.google.com/assets/colab-badge.svg\" alt=\"Open In Colab\"/></a>"
      ]
    },
    {
      "cell_type": "markdown",
      "metadata": {
        "id": "DSrvIHA5MER-"
      },
      "source": [
        "#**1-sample Kolmogorov-Smirnov test**\n",
        "###Are the samples drawn from a Standard Normal?\n",
        "\n",
        "###One of the central assumptions in $\\chi^2$ fitting is that the model residues are normally distributed with mean zero. This is the only check we could not perform in Homework 5. Now that we are aware of the KS test, we can do this as well."
      ]
    },
    {
      "cell_type": "code",
      "metadata": {
        "colab": {
          "base_uri": "https://localhost:8080/"
        },
        "id": "lh1GZ8kQMZZW",
        "outputId": "2880f414-a536-47c1-dbdf-b591a3cc5073"
      },
      "source": [
        "from astropy.table import Table\n",
        "import numpy as np\n",
        "from scipy.stats import kstest\n",
        "\n",
        "def get_residues(infile = 'https://drive.google.com/file/d/14FHnhqWXHqGrCduzwov44nmHEHuWqIku/view?usp=drive_link'):\n",
        "    \"\"\"\n",
        "    Given data for problem 5 in midterm_p5.csv, perform chi-squared\n",
        "    minimisation to obtain the best-fit values for the slope and intercept.\n",
        "    Return the residues from the best model fit.\n",
        "    \"\"\"\n",
        "    def get_sums(x, y, y_err, k, l):\n",
        "        \"\"\"\n",
        "        Compute sums of the form\n",
        "        SUM(x^k * y^l / y_err^2)\n",
        "        for the data\n",
        "        \"\"\"\n",
        "        return (x**k * y**l / y_err**2).sum()\n",
        "\n",
        "    file_id = infile.split('/')[5]\n",
        "    url = 'https://docs.google.com/uc?export=download&id=' + file_id\n",
        "\n",
        "    t = Table.read(url, format='csv')\n",
        "    t.rename_columns(['X', 'Y', 'Yerr'], ['x', 'y', 'y_err'])\n",
        "\n",
        "    s00 = get_sums(t['x'], t['y'], t['y_err'], 0, 0)\n",
        "    s10 = get_sums(t['x'], t['y'], t['y_err'], 1, 0)\n",
        "    s01 = get_sums(t['x'], t['y'], t['y_err'], 0, 1)\n",
        "    s11 = get_sums(t['x'], t['y'], t['y_err'], 1, 1)\n",
        "    s20 = get_sums(t['x'], t['y'], t['y_err'], 2, 0)\n",
        "\n",
        "    #The best-fit parameter values\n",
        "    A = np.matrix([[s20, s10], [s10, s00]])\n",
        "    B = np.matrix([[s11], [s01]])\n",
        "    theta = np.matmul(np.linalg.inv(A), B)\n",
        "    #print(\"The best-fit slope is {}\".format(np.round(theta[0, 0], decimals = 3)))\n",
        "    #print(\"The best-fit intercept is {}\".format(np.round(theta[1, 0], decimals = 3)))\n",
        "\n",
        "    #Compute and return the residues\n",
        "    ymod = theta[0, 0] * t['x'] + theta[1, 0]\n",
        "    residues = (t['y'] - ymod) / t['y_err']\n",
        "    return residues\n",
        "\n",
        "residues = get_residues()\n",
        "#Perform the KS test to test the hypothesis that these residues are drawn from a Standard Normal\n",
        "print(\"Null hypothesis: residues are drawn from the Standard Normal distribution.\")\n",
        "D_KS, p_value = kstest(residues, 'norm')\n",
        "alpha = 0.05\n",
        "print(\"KS statistic: {}\".format(np.round(D_KS, decimals = 3)))\n",
        "print(\"p-value: {}\".format(np.round(p_value, decimals = 3)))\n",
        "if p_value < alpha:\n",
        "  print(\"The p-value from the KS test is less than the significance. The null hypothesis is rejected!\")\n",
        "  print(\"Strong evidence that the sample is NOT drawn from a Standard Normal distribution!\")\n",
        "else:\n",
        "  print(\"The p-value from the KS test is >= the significance. Null hypothesis cannot be rejected!\")\n",
        "  print(\"The sample is drawn from a Standard Normal distribution!\")\n"
      ],
      "execution_count": 10,
      "outputs": [
        {
          "output_type": "stream",
          "name": "stdout",
          "text": [
            "Null hypothesis: residues are drawn from the Standard Normal distribution.\n",
            "KS statistic: 0.073\n",
            "p-value: 0.019\n",
            "The p-value from the KS test is less than the significance. The null hypothesis is rejected!\n",
            "Strong evidence that the sample is NOT drawn from a Standard Normal distribution!\n"
          ]
        }
      ]
    },
    {
      "cell_type": "markdown",
      "metadata": {
        "id": "HLQsd5XsOz5N"
      },
      "source": [
        "##**Note: in the above, we compared a sample to the Standard Normal distribution, so no extra parameters (loc, scale) were passed to `scipy.stats.norm`.**\n",
        "##If you have to compare to a general Gaussian distribution (loc $\\neq$ 0, scale $\\neq$ 1), consult the documentation for the `args` keyword.\n",
        "##In general, this is quite painful. It is much easier to just standardise your data to the model parameters, as the following example shows."
      ]
    },
    {
      "cell_type": "code",
      "metadata": {
        "colab": {
          "base_uri": "https://localhost:8080/"
        },
        "id": "BwqDOJb7Pmvl",
        "outputId": "b6b5d3c8-4a88-4902-d60b-cd07bdccec2a"
      },
      "source": [
        "from scipy.stats import uniform, norm, kstest\n",
        "#Draw samples from a Uniform distribution over [-2, 2]\n",
        "x = uniform.rvs(loc = -2, scale = 4, size = 10)\n",
        "#Test the hypothesis that this sample is drawn from a Uniform distribution over [-3, 0]\n",
        "Model_loc = -3\n",
        "Model_scale = 3\n",
        "y = (x - Model_loc) / Model_scale\n",
        "#Perform the KS test to test the hypothesis that this transposed sample is drawn from a Standard Uniform distribution\n",
        "#       This is the same as testing whether the original sample is drawn from a Uniform(-3, 0)\n",
        "print(\"Null hypothesis: residues are drawn from the Standard Uniform distribution.\")\n",
        "D_KS, p_value = kstest(y, 'uniform')\n",
        "alpha = 0.05\n",
        "print(\"KS statistic: {}\".format(np.round(D_KS, decimals = 3)))\n",
        "print(\"p-value: {}\".format(np.round(p_value, decimals = 3)))\n",
        "if p_value < alpha:\n",
        "  print(\"The p-value from the KS test is less than the significance. The null hypothesis is rejected!\")\n",
        "else:\n",
        "  print(\"The p-value from the KS test is >= the significance. Null hypothesis cannot be rejected!\")"
      ],
      "execution_count": 11,
      "outputs": [
        {
          "output_type": "stream",
          "name": "stdout",
          "text": [
            "Null hypothesis: residues are drawn from the Standard Uniform distribution.\n",
            "KS statistic: 0.535\n",
            "p-value: 0.003\n",
            "The p-value from the KS test is less than the significance. The null hypothesis is rejected!\n"
          ]
        }
      ]
    },
    {
      "cell_type": "markdown",
      "metadata": {
        "id": "27twmkxsRAm6"
      },
      "source": [
        "#**What if you aren't given the model parameters? Can you estimate them from the data then use the KS test?**\n",
        "#**DAS IST VERBOTEN!! See p. 108-109 of Feigelsen & Babu**"
      ]
    },
    {
      "cell_type": "code",
      "metadata": {
        "id": "x2-rN_uKU69A"
      },
      "source": [
        "seed = 10001"
      ],
      "execution_count": 12,
      "outputs": []
    },
    {
      "cell_type": "markdown",
      "metadata": {
        "id": "6DSUeL6v_vzs"
      },
      "source": [
        "#**Comparing the Kolmogorov-Smirnov and Anderson-Darling tests**\n",
        "##We will now generate a sample from the Student's $t$ distribution, and test whether it is drawn from a Standard Normal.\n",
        "##The null hypothesis should be rejected in this case, but the KS test is not sensitive to differences in the tails, so it's not as good as the AD test in this case."
      ]
    },
    {
      "cell_type": "code",
      "metadata": {
        "colab": {
          "base_uri": "https://localhost:8080/",
          "height": 676
        },
        "id": "V768xRgdS7eJ",
        "outputId": "0c2a7bef-0a9f-4a70-f294-7dd254a2a2e7"
      },
      "source": [
        "#Generate data for test\n",
        "import numpy as np\n",
        "from scipy.stats import t\n",
        "np.random.seed(seed)\n",
        "df = 2\n",
        "x = t.rvs(df, size = 100)\n",
        "alpha = 0.05\n",
        "#Visual comparison of data ECDF to CDF of a Standard Normal\n",
        "from matplotlib import pyplot as plt\n",
        "from scipy.stats import norm\n",
        "from statsmodels.distributions.empirical_distribution import ECDF\n",
        "ecdf = ECDF(x)\n",
        "_ = plt.figure(figsize = (8, 8))\n",
        "plt.step(ecdf.x, ecdf.y, where = 'mid', label = 'ECDF')\n",
        "plt.step(ecdf.x, norm.cdf(ecdf.x))\n",
        "_ = plt.legend(loc = 'best', fontsize = 16)\n",
        "_ = plt.xlim(-10, 10)\n"
      ],
      "execution_count": 13,
      "outputs": [
        {
          "output_type": "display_data",
          "data": {
            "text/plain": [
              "<Figure size 800x800 with 1 Axes>"
            ],
            "image/png": "[encoded data removed]"
          },
          "metadata": {}
        }
      ]
    },
    {
      "cell_type": "code",
      "metadata": {
        "id": "A7WVhQGhAKh7"
      },
      "source": [
        "\"\"\"This function performs the KS test and returns 0 if H0 is rejected\"\"\"\n",
        "def do_KS_test(x, doprint = False):\n",
        "  from scipy.stats import kstest\n",
        "  ksstat, pvalue_ks = kstest(x, 'norm')\n",
        "  if doprint:\n",
        "    print(\"--------Kolmogorov-Smirnov Test--------\")\n",
        "  if pvalue_ks > alpha:\n",
        "    if doprint:\n",
        "      print(\"p-value = {}, > significance; the null hypothesis cannot be rejected.\".format(np.format_float_scientific(pvalue_ks, precision = 2)))\n",
        "      print(\"The data is drawn from a normal distribution!\")\n",
        "    return 1\n",
        "  else:\n",
        "    if doprint:\n",
        "      print(\"p-value = {}, <= significance; the null hypothesis is rejected.\".format(np.format_float_scientific(pvalue_ks, precision = 2)))\n",
        "      print(\"Strong evidence that data is not drawn from a normal distribution!\")\n",
        "    return 0\n",
        "\n",
        "\"\"\"This function performs the AD test and returns 0 if H0 is rejected\"\"\"\n",
        "def do_AD_test(x, doprint = False):\n",
        "  from scipy.stats import anderson\n",
        "  adstat, adcrit, pvalue_ad = anderson(x, dist = 'norm')\n",
        "  if doprint:\n",
        "    print(\"--------Anderson-Darling Test--------\")\n",
        "  k = np.searchsorted(np.array(pvalue_ad[::-1]), 100 * alpha, side = 'left') #reverse search because pvalue_ad is sorted in descending order\n",
        "  if adcrit[k] >= adstat:\n",
        "    if doprint:\n",
        "      print(\"Observed AD statistic = {} < {} = AD statistic for 5% significance; the null hypothesis cannot be rejected.\"\\\n",
        "            .format(np.round(adstat, decimals = 2), np.round(adcrit[k], decimals = 2)))\n",
        "      print(\"The data is drawn from a normal distribution!\")\n",
        "    return 1\n",
        "  else:\n",
        "    if doprint:\n",
        "      print(\"Observed AD statistic = {} > {} = AD statistic for 5% significance; the null hypothesis is rejected.\".\\\n",
        "            format(np.round(adstat, decimals = 2), np.round(adcrit[k], decimals = 2)))\n",
        "      print(\"Strong evidence that data is not drawn from a normal distribution!\")\n",
        "    return 0"
      ],
      "execution_count": 14,
      "outputs": []
    },
    {
      "cell_type": "code",
      "metadata": {
        "colab": {
          "base_uri": "https://localhost:8080/"
        },
        "id": "gWYIVGBSG76n",
        "outputId": "73773561-bcf0-4027-ea89-998e70af5f1b"
      },
      "source": [
        "#Run one test each\n",
        "_ = do_KS_test(x, doprint = True)\n",
        "_ = do_AD_test(x, doprint = True)"
      ],
      "execution_count": 15,
      "outputs": [
        {
          "output_type": "stream",
          "name": "stdout",
          "text": [
            "--------Kolmogorov-Smirnov Test--------\n",
            "p-value = 1.38e-01, > significance; the null hypothesis cannot be rejected.\n",
            "The data is drawn from a normal distribution!\n",
            "--------Anderson-Darling Test--------\n",
            "Observed AD statistic = 8.13 > 0.76 = AD statistic for 5% significance; the null hypothesis is rejected.\n",
            "Strong evidence that data is not drawn from a normal distribution!\n"
          ]
        }
      ]
    }
  ]
}