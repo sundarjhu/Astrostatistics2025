{
  "cells": [
    {
      "cell_type": "markdown",
      "metadata": {
        "id": "view-in-github",
        "colab_type": "text"
      },
      "source": [
        "<a href=\"https://colab.research.google.com/github/sundarjhu/Astrostatistics2025/blob/main/Lesson08.ipynb\" target=\"_parent\"><img src=\"https://colab.research.google.com/assets/colab-badge.svg\" alt=\"Open In Colab\"/></a>"
      ]
    },
    {
      "cell_type": "code",
      "execution_count": null,
      "id": "df5c7af0",
      "metadata": {
        "id": "df5c7af0"
      },
      "outputs": [],
      "source": [
        "# Core imports used across problems\n",
        "import numpy as np\n",
        "from math import sqrt, ceil\n",
        "from scipy.stats import norm\n",
        "\n",
        "np.set_printoptions(suppress=True, precision=6)\n"
      ]
    },
    {
      "cell_type": "markdown",
      "id": "5de3d7bc",
      "metadata": {
        "id": "5de3d7bc"
      },
      "source": [
        "## Problem 1: Single-pixel detection (right tail; use `.cdf`)"
      ]
    },
    {
      "cell_type": "markdown",
      "id": "a76db905",
      "metadata": {
        "id": "a76db905"
      },
      "source": [
        "### A CCD image has background noise modeled as $\\mathscr{N}(\\mu, \\sigma^2)$ with $\\mu$=1200 ADU and $\\sigma$=15 ADU. A pixel on the CCD reads 1248 ADU. What is the probability that this reading is purely due to noise?\n",
        "\n",
        "**Solution**: Let $X$ be the random variable associated with the level of background that is detected by the pixel. We are then looking for the probability $P(X \\geq 1248 | \\mu=1200, \\sigma=15)$.\n",
        "\n",
        "From the definition of the CDF, $P(X \\ge x) = 1 - F_X(x)$.\n",
        "\n",
        "Therefore, we can use the `.cdf` method, remembering to use the `loc` and `scale` arguments to pass the mean and standard deviation."
      ]
    },
    {
      "cell_type": "code",
      "execution_count": null,
      "id": "9787396b",
      "metadata": {
        "colab": {
          "base_uri": "https://localhost:8080/"
        },
        "id": "9787396b",
        "outputId": "685df3de-5d26-4bf2-deda-cab045e0479a"
      },
      "outputs": [
        {
          "output_type": "stream",
          "name": "stdout",
          "text": [
            "P(X >= 1248.0) = 0.000687138\n"
          ]
        }
      ],
      "source": [
        "mu, sigma = 1200.0, 15.0\n",
        "x = 1248.0\n",
        "p_right = 1.0 - norm.cdf(x, loc=mu, scale=sigma)\n",
        "print(f\"P(X >= {x}) = {p_right:.6g}\")"
      ]
    },
    {
      "cell_type": "markdown",
      "source": [
        "For this problem, we could also have obtained an approximate estimate by standardising the variable:\n",
        "$Z \\equiv \\displaystyle{X-\\mu\\over \\sigma} = \\displaystyle{1248-1200\\over 15} = 48/15 = 3.2$.\n",
        "That is, the observed value is more than 3.2 standard deviations away from the mean.\n",
        "\n",
        "From the Empirical Rule for normal distributions, we know that the probability of being within 3 standard deviations is approximately 99.7%. Therefore, the required probablity must be less than (1-0.997)/2 = 0.0015.\n",
        "\n",
        "Note that we are dividing by two because (1-0.997) is the two-tailed extreme probability and we are only interested in the right-tailed case.\n",
        "\n",
        "### Solution: the probability is lower than the usual threshold (significance) of 5%, meaning that this reading cannot be due to pure noise."
      ],
      "metadata": {
        "id": "BAY7mYuuBSYD"
      },
      "id": "BAY7mYuuBSYD"
    },
    {
      "cell_type": "markdown",
      "id": "cafb26aa",
      "metadata": {
        "id": "cafb26aa"
      },
      "source": [
        "## Problem 3: Central probability around a mean (use `.cdf`)"
      ]
    },
    {
      "cell_type": "markdown",
      "id": "f0e3df34",
      "metadata": {
        "id": "f0e3df34"
      },
      "source": [
        "### A sub-mm heterodyne detector measures the centroids of spectral lines with resolution 1.8 km s$^{-1}$ (that is, the location of the centroid is distributed according to $\\mathscr{N}(\\mu, \\sigma^2)$ with $\\mu=0$, $\\sigma=1.8$). What fractions of measured centroids fall within $\\pm 2.5$ km s$^{-1}$ of the true value?\n",
        "\n",
        "**Solution**: We require the central probability $P(|X| \\leq 2.5|mu=0, sigma=1.8) = P(-2.5\\leq X\\leq 2.5|\\mu=0, \\sigma=1.8)$.\n",
        "\n",
        "From the definition of the CDF, $P(-2.5\\leq X\\leq 2.5|\\mu=0, \\sigma=1.8) = F_X(2.5)-F_X(-2.5)$.\n",
        "\n",
        "Once again, we can use the `.cdf` method with the `loc` and `scale` arguments."
      ]
    },
    {
      "cell_type": "code",
      "execution_count": null,
      "id": "e44ed4f5",
      "metadata": {
        "colab": {
          "base_uri": "https://localhost:8080/"
        },
        "id": "e44ed4f5",
        "outputId": "5c07d1e8-0218-441c-fc47-a42240bca118"
      },
      "outputs": [
        {
          "output_type": "stream",
          "name": "stdout",
          "text": [
            "P(-2.5 <= X <= 2.5) = 0.835133\n"
          ]
        }
      ],
      "source": [
        "mu, sigma = 0.0, 1.8\n",
        "a, b = -2.5, 2.5\n",
        "p_central = norm.cdf(b, loc=mu, scale=sigma) - norm.cdf(a, loc=mu, scale=sigma)\n",
        "print(f\"P({a} <= X <= {b}) = {p_central:.6f}\")"
      ]
    },
    {
      "cell_type": "markdown",
      "source": [
        "As before, we could have obtained an approximate estimate by standardising:\n",
        "$Z\\equiv\\displaystyle{X-\\mu\\over\\sigma}=\\displaystyle{2.5-0\\over 1.8}=1.38$.\n",
        "From the Empirical Rule, we know that the 1-$\\sigma$ central probability is 68% and the 2-\\$sigma$ value is 95%, so the required probability should be intermediate to these two values."
      ],
      "metadata": {
        "id": "NOrsujBlFgS5"
      },
      "id": "NOrsujBlFgS5"
    },
    {
      "cell_type": "markdown",
      "id": "19f45dfe",
      "metadata": {
        "id": "19f45dfe"
      },
      "source": [
        "## Problem 3: False-alarm threshold for source extraction (use `.ppf`)"
      ]
    },
    {
      "cell_type": "markdown",
      "id": "122f5d2a",
      "metadata": {
        "id": "122f5d2a"
      },
      "source": [
        "### An aperture has background counts distributed according to $\\mathscr{N}(\\mu=500,\\ \\sigma^2=22^2)$. What is the threshold $T$ such that the right-tail **false-alarm rate** is 0.5%?\n",
        "\n",
        "**Solution**: the false-alarm rate is the probability that a true signal is accidentally identified as being due to the background. A right-tail false-alarm rate of 0.5% means the threshold is such that $P(X\\geq T|\\mu, \\sigma) = 0.005$. To solve this equation for $T$, we use the `.ppf` method, making sure to pass the `loc` and `scale` arguments.\n"
      ]
    },
    {
      "cell_type": "code",
      "execution_count": null,
      "id": "44a6058a",
      "metadata": {
        "colab": {
          "base_uri": "https://localhost:8080/"
        },
        "id": "44a6058a",
        "outputId": "01ea2387-88e8-4be6-b55a-7dfa902589e9"
      },
      "outputs": [
        {
          "output_type": "stream",
          "name": "stdout",
          "text": [
            "Detection threshold T for 0.5% right-tail false alarm: 556.668245\n"
          ]
        }
      ],
      "source": [
        "mu, sigma = 500.0, 22.0\n",
        "alpha_right = 0.005\n",
        "T = norm.ppf(1 - alpha_right, loc=mu, scale=sigma)\n",
        "print(f\"Detection threshold T for 0.5% right-tail false alarm: {T:.6f}\")"
      ]
    },
    {
      "cell_type": "markdown",
      "source": [
        "That is, any detection above 556.7 counts has only a 0.5% probability of being due to background noise."
      ],
      "metadata": {
        "id": "pyXIgwc4HU2E"
      },
      "id": "pyXIgwc4HU2E"
    },
    {
      "cell_type": "markdown",
      "id": "092d5ac5",
      "metadata": {
        "id": "092d5ac5"
      },
      "source": [
        "## Problem 4: Comparing two independent measurements (difference of normals; use `.cdf`)"
      ]
    },
    {
      "cell_type": "markdown",
      "id": "a3e71421",
      "metadata": {
        "id": "a3e71421"
      },
      "source": [
        "###The radial velocities of two sources are normally distributed with means of 30 and 26 km s$^{-1}$ and standard deviations of 2 and 3 km s$^{-1}$. Assuming that the meaurements are independent, what is the probability that the radial velocity of the first source is greater than that of the second?\n",
        "\n",
        "**Solution**: Let $X_1, X_2$ be the measured radial velocities of the sources. The problem requires the probability $P(X_1 > X_2) = P(X_1 - X_2 > 0)$.\n",
        "\n",
        "We use the fact that the difference of two normally-distributed variables is also normal, that the mean is equal to the difference in means, and that the standard deviations add in quadrature.\n",
        "\n",
        "Therefore, the required probability can be computed using the `.cdf` method with the appropriate `loc` and `scale` arguments."
      ]
    },
    {
      "cell_type": "code",
      "execution_count": null,
      "id": "fd746faf",
      "metadata": {
        "colab": {
          "base_uri": "https://localhost:8080/"
        },
        "id": "fd746faf",
        "outputId": "ab757380-4475-4a6c-8456-5b68310111c9"
      },
      "outputs": [
        {
          "output_type": "stream",
          "name": "stdout",
          "text": [
            "mu_D = 4.000000, sigma_D = 3.605551\n",
            "P(X1 - X2 >= 0) = 0.866371\n"
          ]
        }
      ],
      "source": [
        "mu1, s1 = 30.0, 2.0\n",
        "mu2, s2 = 26.0, 3.0\n",
        "muD = mu1 - mu2\n",
        "sD = sqrt(s1**2 + s2**2)\n",
        "p = 1.0 - norm.cdf(0.0, loc=muD, scale=sD)\n",
        "print(f\"mu_D = {muD:.6f}, sigma_D = {sD:.6f}\")\n",
        "print(f\"P(X1 - X2 >= 0) = {p:.6f}\")"
      ]
    },
    {
      "cell_type": "markdown",
      "id": "daa49914",
      "metadata": {
        "id": "daa49914"
      },
      "source": [
        "## Problem 5: Determine n to achieve a target precision (use `.ppf`)"
      ]
    },
    {
      "cell_type": "markdown",
      "id": "23194255",
      "metadata": {
        "id": "23194255"
      },
      "source": [
        "### The photon counts from a source in a single, short exposure are distributed according to $\\mathscr{N}(1000, 80^2)$. How many exposures $n$ are required so that a 95% confidence interval on the mean source counts has a total width of 20 counts?\n",
        "\n",
        "**Solution**:\n",
        "When averaging over $n$ exposures, the standard deviation on this sample mean will be $\\sigma/\\sqrt{n}$.\n",
        "How many such standard deviations does a 95% confidence interval span (that is, how many standard deviations equals the half-width of a 95% confidence interval)?\n",
        "\n",
        "The half-width of a standard 95% CI is $z = F_X^{-1}(1-0.01/2) = $ `norm.ppf`$(1-0.05/2) = 1.96$.\n",
        "\n",
        "Multiply this by the standard deviation of the sample mean to get the half-width of the required interval: $W/2 = 1.96\\ \\displaystyle{\\sigma\\over \\sqrt{n}}$.\n",
        "\n",
        "Solve this for $n$, rounding up to the next integer.\n"
      ]
    },
    {
      "cell_type": "code",
      "execution_count": null,
      "id": "31934bd2",
      "metadata": {
        "colab": {
          "base_uri": "https://localhost:8080/"
        },
        "id": "31934bd2",
        "outputId": "22d37886-9559-4259-e022-11e574d2c17c"
      },
      "outputs": [
        {
          "output_type": "stream",
          "name": "stdout",
          "text": [
            "z_0.975 = 1.959964\n",
            "Required n (ceil): 246\n"
          ]
        }
      ],
      "source": [
        "sigma = 80.0\n",
        "target_halfwidth = 10.0   # W=20 => half-width = 10\n",
        "alpha = 0.05\n",
        "z = norm.ppf(1 - alpha/2)\n",
        "n_req = int(ceil((z * sigma / target_halfwidth)**2))\n",
        "print(f\"z_0.975 = {z:.6f}\")\n",
        "print(f\"Required n (ceil): {n_req}\")"
      ]
    },
    {
      "cell_type": "markdown",
      "source": [
        "We could also have obtained an approximate estimate of $n$ using the Empirical Rule.\n",
        "\n",
        "The standard deviation for a short exposure is 80 counts.\n",
        "\n",
        "For the full $n$ exposures: according to the Empirical Rule, 95% CI approximately encloses 2 standard deviations. This means that the half-width of 10 counts corresponds to 2 standard deviations. Therefore, 1 standard deviation is 5 counts.\n",
        "\n",
        "We therefore have $5 = 80 / \\sqrt{n} \\Longrightarrow n = 16^2 = 256$."
      ],
      "metadata": {
        "id": "8uIWRJ6-PpUM"
      },
      "id": "8uIWRJ6-PpUM"
    }
  ],
  "metadata": {
    "colab": {
      "provenance": [],
      "include_colab_link": true
    },
    "language_info": {
      "name": "python"
    },
    "kernelspec": {
      "name": "python3",
      "display_name": "Python 3"
    }
  },
  "nbformat": 4,
  "nbformat_minor": 5
}