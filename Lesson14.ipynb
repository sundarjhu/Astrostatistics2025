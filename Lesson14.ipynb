{
  "nbformat": 4,
  "nbformat_minor": 0,
  "metadata": {
    "colab": {
      "provenance": [],
      "include_colab_link": true
    },
    "kernelspec": {
      "name": "python3",
      "display_name": "Python 3"
    },
    "language_info": {
      "name": "python"
    }
  },
  "cells": [
    {
      "cell_type": "markdown",
      "metadata": {
        "id": "view-in-github",
        "colab_type": "text"
      },
      "source": [
        "<a href=\"https://colab.research.google.com/github/sundarjhu/Astrostatistics2025/blob/main/Lesson14.ipynb\" target=\"_parent\"><img src=\"https://colab.research.google.com/assets/colab-badge.svg\" alt=\"Open In Colab\"/></a>"
      ]
    },
    {
      "cell_type": "markdown",
      "source": [
        "# Problem 3 (1-sample $t$ test)\n",
        "### I have a dataset of 10 points with sample mean and standard deviation $-0.47$ and $0.94$ respectively. Are these data consistent with being drawn from a population with mean 1.0?"
      ],
      "metadata": {
        "id": "-xRbdc1UAFpF"
      }
    },
    {
      "cell_type": "markdown",
      "source": [
        "##### Our null hypothesis is $H_0: \\mu_1 = \\mu = 1$.<br>\n",
        "The $t$ statistic for the problem is $t = \\displaystyle{\\overline{X_1}-\\mu\\over S/\\sqrt{N}}$.<br>\n",
        "Let us calculate the observed value:"
      ],
      "metadata": {
        "id": "jYYJA_9TFWaw"
      }
    },
    {
      "cell_type": "code",
      "source": [
        "import numpy as np\n",
        "from scipy.stats import t\n",
        "\n",
        "N = 10\n",
        "dof = N-1\n",
        "xbar, s = -0.47, 0.94\n",
        "mu = 1.0\n",
        "\n",
        "t_obs = (xbar - mu) / (s / np.sqrt(N))\n",
        "print(f\"The observed value of the t statistic is {np.round(t_obs, decimals=2)}.\")"
      ],
      "metadata": {
        "id": "4ERWIhSKCobw",
        "outputId": "8ce6f0c2-69ce-4f49-c5de-e53d532a495c",
        "colab": {
          "base_uri": "https://localhost:8080/"
        }
      },
      "execution_count": 3,
      "outputs": [
        {
          "output_type": "stream",
          "name": "stdout",
          "text": [
            "The observed value of the t statistic is -4.95.\n"
          ]
        }
      ]
    },
    {
      "cell_type": "markdown",
      "source": [
        "##### Why is the number of degrees of freedom for the $t$-test $N-1$?\n",
        "\n",
        "##### The sample standard deviation uses the sample mean. We have thus placed one constraint on the data (the sample mean is defined such that the sum of deviations from this quantity is zero). Therefore, the number of independent data points is reduced by 1."
      ],
      "metadata": {
        "id": "9IsQ0HKnvy0N"
      }
    },
    {
      "cell_type": "markdown",
      "source": [
        "##### The $p$-value is the probability that the $t$ statistic is more extreme than the value observed:<br>\n",
        "$p = {\\rm Prob}(t > |t_{\\rm obs}|)$<br><br>\n",
        "Using the fact that the $t$ distribution is symmetric,<br>\n",
        "$p = 2\\ {\\rm Prob}(t < -|t_{\\rm obs}|) = \\texttt{scipy.stats.t.cdf}(-|t_{\\rm obs}|, {\\rm dof})$,<br>\n",
        "with ${\\rm dof}$ the number of degrees of freedom, which is $N-1=9$."
      ],
      "metadata": {
        "id": "4WRGVXgxGDqT"
      }
    },
    {
      "cell_type": "code",
      "source": [
        "p_threshold = 0.05\n",
        "p_obs = 2 * t.cdf(-np.abs(t_obs), dof)\n",
        "print(f\"The corresponding p-value is {np.round(p_obs, decimals=4)}.\")\n",
        "if p_obs < p_threshold:\n",
        "  print(f\"The observed p-value was lower than the threshold, so the null hypothesis is rejected!\")\n",
        "else:\n",
        "  print(f\"The observed p-value was not below the threshold. The null hypothesis CANNOT be rejected.\")"
      ],
      "metadata": {
        "id": "8Y2fYk23GDWP",
        "outputId": "0dccc648-4b35-4bf4-eeb9-0f565e4d40ad",
        "colab": {
          "base_uri": "https://localhost:8080/"
        }
      },
      "execution_count": 5,
      "outputs": [
        {
          "output_type": "stream",
          "name": "stdout",
          "text": [
            "The corresponding p-value is 0.0008.\n",
            "The observed p-value was lower than the threshold, so the null hypothesis is rejected!\n"
          ]
        }
      ]
    },
    {
      "cell_type": "markdown",
      "source": [
        "# Problem 4 (2-sample equal-sized $t$ test)\n",
        "### Two 20-point datasets have sample means 82 and 96 with sample standard deviations 19.3 and 23. Are they drawn from distributions with the same mean?"
      ],
      "metadata": {
        "id": "NDRmefmlAISo"
      }
    },
    {
      "cell_type": "markdown",
      "source": [
        "##### Note that the version of the 2-sample $t$ test we are about to use is only valid if the **population standard deviations of the distributions from which the samples are drawn are equal**. This does not restrict the observed (i.e., sample) standard deviations to be identical.<br><br>\n",
        "\n",
        "##### Our null hypothesis is $H_0: \\mu_1 = \\mu_2 = \\mu$ (say).<br>\n",
        "The $t$ statistic for the problem is<br>\n",
        "$t = \\displaystyle{(\\overline{X_1}-\\mu_1)-(\\overline{X_2}-\\mu_2)\\over\\sqrt{S_1^2+S_2^2}/\\sqrt{N}}=\\sqrt{N} \\displaystyle{\\overline{X_1}-\\overline{X_2}\\over\\sqrt{S_1^2+S_2^2}}$ under $H_0$.<br>\n",
        "Let us calculate the observed value:"
      ],
      "metadata": {
        "id": "42AwZ18BAitP"
      }
    },
    {
      "cell_type": "code",
      "source": [
        "N = 20\n",
        "xbar1, xbar2 = 82, 96\n",
        "s1, s2 = 19.3, 23\n",
        "p_threshold = 0.05\n",
        "dof = N-1\n",
        "\n",
        "t_obs = np.sqrt(N) * (xbar1 - xbar2) / np.sqrt(s1**2 + s2**2)\n",
        "print(f\"The observed value of the t statistic is {np.round(t_obs, decimals=2)}.\")"
      ],
      "metadata": {
        "id": "iSwZe-o7AHfG"
      },
      "execution_count": null,
      "outputs": []
    },
    {
      "cell_type": "markdown",
      "source": [
        "##### The $p$-value is the probability that the $t$ statistic is more extreme than the value observed:<br>\n",
        "$p = {\\rm Prob}(t > |t_{\\rm obs}|)$<br><br>\n",
        "Using the fact that the $t$ distribution is symmetric,<br>\n",
        "$p = 2\\ {\\rm Prob}(t < -|t_{\\rm obs}|) = \\texttt{scipy.stats.t.cdf}(-|t_{\\rm obs}|, {\\rm dof})$,<br>\n",
        "with ${\\rm dof}$ the number of degrees of freedom, which is $N-1=19$."
      ],
      "metadata": {
        "id": "ORzwJ8h7DPEd"
      }
    },
    {
      "cell_type": "code",
      "source": [
        "p_obs = 2 * t.cdf(-np.abs(t_obs), dof)\n",
        "print(f\"The corresponding p-value is {np.round(p_obs, decimals=3)}.\")\n",
        "if p_obs < p_threshold:\n",
        "  print(f\"The observed p-value was lower than the threshold, so the null hypothesis is rejected!\")\n",
        "else:\n",
        "  print(f\"The observed p-value was not below the threshold. The null hypothesis CANNOT be rejected.\")"
      ],
      "metadata": {
        "id": "-1yDTFJyDNJe"
      },
      "execution_count": null,
      "outputs": []
    },
    {
      "cell_type": "code",
      "source": [],
      "metadata": {
        "id": "e3ZnBRYHGNEC"
      },
      "execution_count": null,
      "outputs": []
    }
  ]
}