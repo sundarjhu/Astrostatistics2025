{
  "nbformat": 4,
  "nbformat_minor": 0,
  "metadata": {
    "colab": {
      "provenance": [],
      "include_colab_link": true
    },
    "kernelspec": {
      "name": "python3",
      "display_name": "Python 3"
    },
    "language_info": {
      "name": "python"
    }
  },
  "cells": [
    {
      "cell_type": "markdown",
      "metadata": {
        "id": "view-in-github",
        "colab_type": "text"
      },
      "source": [
        "<a href=\"https://colab.research.google.com/github/sundarjhu/Astrostatistics2025/blob/main/Lesson05.ipynb\" target=\"_parent\"><img src=\"https://colab.research.google.com/assets/colab-badge.svg\" alt=\"Open In Colab\"/></a>"
      ]
    },
    {
      "cell_type": "markdown",
      "source": [
        "Let us first define a 3-element random vector with elements $x$, $y$, and $z$, each which are all random variables:\n",
        "\n",
        "$\\textbf{W} = \\begin{bmatrix}\n",
        "x \\\\\n",
        "y \\\\\n",
        "z\n",
        "\\end{bmatrix}$\n",
        "\n",
        "The covariance matrix for $W$ is then\n",
        "$\\textrm{Cov}(\\textbf{W}) = \\begin{bmatrix}\n",
        "\\textrm{Cov}(x, x) & \\textrm{Cov}(x, y) & \\textrm{Cov}(x, z)\\\\\n",
        "\\textrm{Cov}(y, x) & \\textrm{Cov}(y, y) & \\textrm{Cov}(y, z)\\\\\n",
        "\\textrm{Cov}(z, x) & \\textrm{Cov}(z, y) & \\textrm{Cov}(z, z)\\\\\n",
        "\\end{bmatrix} = \\begin{bmatrix}\n",
        "\\textrm{Var}(x) & \\textrm{Cov}(x, y) & \\textrm{Cov}(x, z)\\\\\n",
        "\\textrm{Cov}(y, x) & \\textrm{Var}(y) & \\textrm{Cov}(y, z)\\\\\n",
        "\\textrm{Cov}(z, x) & \\textrm{Cov}(z, y) & \\textrm{Var}(z)\\\\\n",
        "\\end{bmatrix}$"
      ],
      "metadata": {
        "id": "GzYEJGOnFx4a"
      }
    },
    {
      "cell_type": "markdown",
      "source": [
        "# 1. Covariance when there is explicit dependence"
      ],
      "metadata": {
        "id": "DIzFjA0PJ1St"
      }
    },
    {
      "cell_type": "code",
      "execution_count": 1,
      "metadata": {
        "id": "nnQ1klaQT7ZX"
      },
      "outputs": [],
      "source": [
        "import numpy as np\n",
        "seed = 0\n",
        "np.random.seed(seed)\n",
        "x = np.random.uniform(size = 20)\n",
        "y = x**2\n",
        "z = 1 / x\n",
        "W = np.array([x, y, z])"
      ]
    },
    {
      "cell_type": "code",
      "source": [
        "# print out Cov(x, y)"
      ],
      "metadata": {
        "id": "uPxF5ZywHSTY"
      },
      "execution_count": null,
      "outputs": []
    },
    {
      "cell_type": "code",
      "source": [
        "# print out Cov(x, z)"
      ],
      "metadata": {
        "id": "mX4GdltXHY1z"
      },
      "execution_count": null,
      "outputs": []
    },
    {
      "cell_type": "markdown",
      "source": [
        "In the code above, both $y$ and $z$ are defined such that they are explicit functions of $x$, therefore they should be strongly (anti)correlated with $x$.\n",
        "\n",
        "Do the values of the covariances above reflect this?"
      ],
      "metadata": {
        "id": "K-4lB3zsHbA8"
      }
    },
    {
      "cell_type": "markdown",
      "source": [
        "# 2. Covariance between uncorrelated random variables"
      ],
      "metadata": {
        "id": "fCY2cA75J97N"
      }
    },
    {
      "cell_type": "code",
      "source": [
        "seed2 = seed + 1000\n",
        "size = 20\n",
        "np.random.seed(seed)\n",
        "x = np.random.uniform(size = size)\n",
        "np.random.seed(seed2)\n",
        "q = np.random.uniform(size = size)\n",
        "print(np.cov(np.array([x, q])))"
      ],
      "metadata": {
        "id": "vM5xbI5nJMeV",
        "outputId": "438b8374-e655-42d5-f574-ef96cbc3c220",
        "colab": {
          "base_uri": "https://localhost:8080/"
        }
      },
      "execution_count": 4,
      "outputs": [
        {
          "output_type": "stream",
          "name": "stdout",
          "text": [
            "[[0.08453222 0.00129443]\n",
            " [0.00129443 0.08870495]]\n"
          ]
        }
      ]
    },
    {
      "cell_type": "code",
      "source": [
        "# Which of the above numbers is Cov(x, q)?"
      ],
      "metadata": {
        "id": "vVDu9Kv0HjPW"
      },
      "execution_count": 1,
      "outputs": []
    },
    {
      "cell_type": "code",
      "source": [
        "# How does Cov(x, q) change if `size` is increased to 100, 1000, 10000? Why?"
      ],
      "metadata": {
        "id": "RO6b4oC6KG9q"
      },
      "execution_count": 6,
      "outputs": []
    }
  ]
}