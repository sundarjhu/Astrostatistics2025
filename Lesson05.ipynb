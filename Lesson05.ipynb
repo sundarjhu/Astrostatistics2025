{
  "nbformat": 4,
  "nbformat_minor": 0,
  "metadata": {
    "colab": {
      "provenance": [],
      "include_colab_link": true
    },
    "kernelspec": {
      "name": "python3",
      "display_name": "Python 3"
    },
    "language_info": {
      "name": "python"
    }
  },
  "cells": [
    {
      "cell_type": "markdown",
      "metadata": {
        "id": "view-in-github",
        "colab_type": "text"
      },
      "source": [
        "<a href=\"https://colab.research.google.com/github/sundarjhu/Astrostatistics2025/blob/main/Lesson05.ipynb\" target=\"_parent\"><img src=\"https://colab.research.google.com/assets/colab-badge.svg\" alt=\"Open In Colab\"/></a>"
      ]
    },
    {
      "cell_type": "markdown",
      "source": [
        "Let us first define a 3-element random vector with elements $x$, $y$, and $z$, each which are all random variables:\n",
        "\n",
        "$\\textbf{W} = \\begin{bmatrix}\n",
        "x \\\\\n",
        "y \\\\\n",
        "z\n",
        "\\end{bmatrix}$\n",
        "\n",
        "The covariance matrix for $W$ is then\n",
        "$\\textrm{Cov}(\\textbf{W}) = \\begin{bmatrix}\n",
        "\\textrm{Cov}(x, x) & \\textrm{Cov}(x, y) & \\textrm{Cov}(x, z)\\\\\n",
        "\\textrm{Cov}(y, x) & \\textrm{Cov}(y, y) & \\textrm{Cov}(y, z)\\\\\n",
        "\\textrm{Cov}(z, x) & \\textrm{Cov}(z, y) & \\textrm{Cov}(z, z)\\\\\n",
        "\\end{bmatrix} = \\begin{bmatrix}\n",
        "\\textrm{Var}(x) & \\textrm{Cov}(x, y) & \\textrm{Cov}(x, z)\\\\\n",
        "\\textrm{Cov}(y, x) & \\textrm{Var}(y) & \\textrm{Cov}(y, z)\\\\\n",
        "\\textrm{Cov}(z, x) & \\textrm{Cov}(z, y) & \\textrm{Var}(z)\\\\\n",
        "\\end{bmatrix}= \\begin{bmatrix}\n",
        "\\sigma_x^2 & \\textrm{Cov}(x, y) & \\textrm{Cov}(x, z)\\\\\n",
        "\\textrm{Cov}(y, x) & \\sigma_y^2 & \\textrm{Cov}(y, z)\\\\\n",
        "\\textrm{Cov}(z, x) & \\textrm{Cov}(z, y) & \\sigma_z^2\\\\\n",
        "\\end{bmatrix}$"
      ],
      "metadata": {
        "id": "GzYEJGOnFx4a"
      }
    },
    {
      "cell_type": "markdown",
      "source": [
        "# 1. Covariance when there is explicit dependence"
      ],
      "metadata": {
        "id": "DIzFjA0PJ1St"
      }
    },
    {
      "cell_type": "code",
      "source": [
        "seed = 0  # set the seed for random draws"
      ],
      "metadata": {
        "id": "dS2_KfS6-Fhc"
      },
      "execution_count": null,
      "outputs": []
    },
    {
      "cell_type": "code",
      "execution_count": null,
      "metadata": {
        "id": "nnQ1klaQT7ZX",
        "colab": {
          "base_uri": "https://localhost:8080/",
          "height": 465
        },
        "outputId": "47065b5a-4fba-455d-f415-fbefc7ac0158"
      },
      "outputs": [
        {
          "output_type": "display_data",
          "data": {
            "text/plain": [
              "<Figure size 1000x500 with 2 Axes>"
            ],
            "image/png": "[encoded data removed]"
          },
          "metadata": {}
        }
      ],
      "source": [
        "import numpy as np\n",
        "from scipy.stats import norm\n",
        "\n",
        "np.random.seed(seed)\n",
        "x = np.random.uniform(size = 20)\n",
        "y = x + norm.rvs(loc=0.0, scale=0.1, size = 20) # random scatter around a linear relation\n",
        "z = 1 / x\n",
        "\n",
        "import matplotlib.pyplot as plt\n",
        "# plot two panels, one for y vs x and the other for z vs x\n",
        "fig, ax = plt.subplots(1, 2, figsize = (10, 5))\n",
        "ax[0].scatter(x, y)\n",
        "ax[0].set_xlabel('x')\n",
        "ax[0].set_ylabel('y')\n",
        "ax[1].scatter(x, z)\n",
        "ax[1].set_xlabel('x')\n",
        "ax[1].set_ylabel('z')\n",
        "plt.show()"
      ]
    },
    {
      "cell_type": "code",
      "source": [
        "W = np.array([x, y, z])\n",
        "cov = np.cov(W)\n",
        "print(cov)"
      ],
      "metadata": {
        "id": "nEtlk87hqoyx"
      },
      "execution_count": null,
      "outputs": []
    },
    {
      "cell_type": "code",
      "source": [
        "# What is Cov(x, y)?"
      ],
      "metadata": {
        "id": "uPxF5ZywHSTY"
      },
      "execution_count": null,
      "outputs": []
    },
    {
      "cell_type": "code",
      "source": [
        "# What is Cov(x, z)?"
      ],
      "metadata": {
        "id": "mX4GdltXHY1z"
      },
      "execution_count": null,
      "outputs": []
    },
    {
      "cell_type": "markdown",
      "source": [
        "In the code above, both $y$ and $z$ are defined such that they are explicit functions of $x$, therefore they should be strongly (anti)correlated with $x$.\n",
        "\n",
        "Do the values of the covariances above reflect this?"
      ],
      "metadata": {
        "id": "K-4lB3zsHbA8"
      }
    },
    {
      "cell_type": "markdown",
      "source": [
        "# 2. Is this covariance independent of scale?\n",
        "#### All we'll do is increase the scale of the dependent variable, and redo the calculations."
      ],
      "metadata": {
        "id": "vFJNT5fmp7zb"
      }
    },
    {
      "cell_type": "code",
      "source": [
        "y = 180 * (x + norm.rvs(loc=0.0, scale=0.1, size = 20))\n",
        "np.cov(np.array([x, y]))"
      ],
      "metadata": {
        "colab": {
          "base_uri": "https://localhost:8080/"
        },
        "id": "nmk1gNRHqPfX",
        "outputId": "7f93defd-ae76-4ad1-acfe-77267fc9206e"
      },
      "execution_count": null,
      "outputs": [
        {
          "output_type": "execute_result",
          "data": {
            "text/plain": [
              "array([[8.01360090e-02, 1.53329071e+01],\n",
              "       [1.53329071e+01, 3.25716649e+03]])"
            ]
          },
          "metadata": {},
          "execution_count": 62
        }
      ]
    },
    {
      "cell_type": "markdown",
      "source": [
        "# Hmm, so the covariance is scale-dependent.\n",
        "This doesn't help us determine, in general, whether one pair of functions is more correlated than another."
      ],
      "metadata": {
        "id": "5dgWpao-q2lI"
      }
    },
    {
      "cell_type": "markdown",
      "source": [
        "# 3. Covariance between uncorrelated random variables"
      ],
      "metadata": {
        "id": "fCY2cA75J97N"
      }
    },
    {
      "cell_type": "code",
      "source": [
        "seed2 = seed + 1000\n",
        "size = 20\n",
        "np.random.seed(seed)\n",
        "x = np.random.uniform(size = size)\n",
        "np.random.seed(seed2)\n",
        "q = np.random.uniform(size = size)\n",
        "print(np.cov(np.array([x, q])))"
      ],
      "metadata": {
        "id": "vM5xbI5nJMeV",
        "outputId": "438b8374-e655-42d5-f574-ef96cbc3c220",
        "colab": {
          "base_uri": "https://localhost:8080/"
        }
      },
      "execution_count": null,
      "outputs": [
        {
          "output_type": "stream",
          "name": "stdout",
          "text": [
            "[[0.08453222 0.00129443]\n",
            " [0.00129443 0.08870495]]\n"
          ]
        }
      ]
    },
    {
      "cell_type": "code",
      "source": [
        "# Which of the above numbers is Cov(x, q)?"
      ],
      "metadata": {
        "id": "vVDu9Kv0HjPW"
      },
      "execution_count": null,
      "outputs": []
    },
    {
      "cell_type": "code",
      "source": [
        "# How does Cov(x, q) change if `size` is increased to 100, 1000, 10000? Why?"
      ],
      "metadata": {
        "id": "RO6b4oC6KG9q"
      },
      "execution_count": null,
      "outputs": []
    },
    {
      "cell_type": "markdown",
      "source": [
        "# 4. Covariance with explicit dependence AND outliers\n",
        "\n",
        "#### Let's add some outliers to linear relationship from before:"
      ],
      "metadata": {
        "id": "t5-lzpfjsRmf"
      }
    },
    {
      "cell_type": "code",
      "source": [
        "x1 = np.append(x, [2, 3, 4])\n",
        "y1 = np.append(y, [0.5, 0.5, 0.5])\n",
        "print(np.cov(np.array([x1, y1])))\n",
        "\n",
        "plt.scatter(x1, y1)\n",
        "plt.plot(x1[-3:], y1[-3:], 'ro')\n",
        "plt.xlabel('x')\n",
        "plt.ylabel('y')\n",
        "plt.show()"
      ],
      "metadata": {
        "colab": {
          "base_uri": "https://localhost:8080/",
          "height": 486
        },
        "id": "M5FocDn9tNVN",
        "outputId": "4ae8f8a8-f11b-4a8d-c4bf-75e859963192"
      },
      "execution_count": null,
      "outputs": [
        {
          "output_type": "stream",
          "name": "stdout",
          "text": [
            "[[0.8536602  0.03352022]\n",
            " [0.03352022 0.06594788]]\n"
          ]
        },
        {
          "output_type": "display_data",
          "data": {
            "text/plain": [
              "<Figure size 640x480 with 1 Axes>"
            ],
            "image/png": "[encoded data removed]"
          },
          "metadata": {}
        }
      ]
    },
    {
      "cell_type": "code",
      "source": [
        "print(np.cov(np.array([x, y])))"
      ],
      "metadata": {
        "colab": {
          "base_uri": "https://localhost:8080/"
        },
        "id": "0QxckeJrtZ4c",
        "outputId": "1d8d2537-0936-474f-f756-1c795e67298e"
      },
      "execution_count": null,
      "outputs": [
        {
          "output_type": "stream",
          "name": "stdout",
          "text": [
            "[[0.08013601 0.0658541 ]\n",
            " [0.0658541  0.11936858]]\n"
          ]
        }
      ]
    },
    {
      "cell_type": "markdown",
      "source": [
        "# Issues discovered so far: (a) scale-dependent (b) less sensitive to nonlinear relationships (c) sensitive to outliers"
      ],
      "metadata": {
        "id": "a9DWja3Ht-AS"
      }
    },
    {
      "cell_type": "markdown",
      "source": [
        "# Make the dependence scale-independent by dividing by the scales (standard deviations)\n",
        "### $\\rho_{_{XY}} = \\displaystyle{\\textrm{Cov}(X, Y)\\over \\sqrt{\\textrm{Var}(X)} \\sqrt{\\textrm{Var}(Y)}}$\n",
        "### This is called the Pearson Correlation Coefficient.\n",
        "\n",
        "### In terms of $\\rho$, the covariance matrix becomes\n",
        "### $\\textrm{Cov}(\\textbf{W}) = \\begin{bmatrix}\n",
        "\\sigma_x^2 & \\rho_{_{xy}}\\sigma_x\\sigma_y & \\rho_{_{xz}}\\sigma_x\\sigma_z\\\\\n",
        "\\rho_{_{yx}}\\sigma_y\\sigma_x & \\sigma_y^2 & \\rho_{_{yz}}\\sigma_y\\sigma_z\\\\\n",
        "\\rho_{_{zx}}\\sigma_z\\sigma_x & \\rho_{_{zy}}\\sigma_z\\sigma_y & \\sigma_z^2\\\\\n",
        "\\end{bmatrix}$\n",
        "\n",
        "# $\\rho$ is scale-independent by definition!"
      ],
      "metadata": {
        "id": "cSIlKxi4uC22"
      }
    },
    {
      "cell_type": "code",
      "source": [
        "y = x + norm.rvs(loc=0.0, scale=0.1, size = 20)\n",
        "cov = np.cov(np.array([x, y]))\n",
        "corr = cov / np.sqrt(cov[0, 0]) / np.sqrt(cov[1, 1])\n",
        "print(corr)"
      ],
      "metadata": {
        "colab": {
          "base_uri": "https://localhost:8080/"
        },
        "id": "TsaW2EMEuRdK",
        "outputId": "1b507dc1-e539-4866-ff37-2000ddee509b"
      },
      "execution_count": null,
      "outputs": [
        {
          "output_type": "stream",
          "name": "stdout",
          "text": [
            "[[1.11075975 0.96552519]\n",
            " [0.96552519 0.9002847 ]]\n"
          ]
        }
      ]
    },
    {
      "cell_type": "code",
      "source": [
        "cov = np.cov(np.array([x, 180 * y]))\n",
        "corr = cov / np.sqrt(cov[0, 0]) / np.sqrt(cov[1, 1])\n",
        "print(corr)"
      ],
      "metadata": {
        "colab": {
          "base_uri": "https://localhost:8080/"
        },
        "id": "MXy8m0oKuu-i",
        "outputId": "b1ad5b2c-912c-4e70-cf6e-a5d088630d42"
      },
      "execution_count": null,
      "outputs": [
        {
          "output_type": "stream",
          "name": "stdout",
          "text": [
            "[[6.17088748e-03 9.65525191e-01]\n",
            " [9.65525191e-01 1.62051245e+02]]\n"
          ]
        }
      ]
    },
    {
      "cell_type": "markdown",
      "source": [
        "# Consider a series of random numbers. Sort it in ascending order. The **rank** of a number in the original series is its location in the sorted series.\n",
        "\n",
        "#### X = [0.1, 0.04, 0.9, 0.06, -2]\n",
        "#### X_sorted = [-2, 0.04, 0.06, 0.1, 0.9]\n",
        "#### The rank array is then\n",
        "#### R[X] = [4, 2, 5, 3, 1]  ($\\texttt{scipy.stats.rankdata}$(X) will do this for you)"
      ],
      "metadata": {
        "id": "4QojjQ9JyZDd"
      }
    },
    {
      "cell_type": "markdown",
      "source": [
        "# Spearman Rank Correlation Coefficient\n",
        "\n",
        "Instead of computing the correlation coefficient between $X$ and $Y$, calculate it for $\\textrm{R}[X]$ and $\\textrm{R}[Y]$:\n",
        "\n",
        "# $r_{_s} = \\rho_{_{\\textrm{R}[X]\\ \\textrm{R}[Y]}} = \\displaystyle{\\textrm{Cov}(\\textrm{R}[X], \\textrm{R}[Y])\\over \\sqrt{\\textrm{Var}(\\textrm{R}[X])}\\sqrt{\\textrm{Var}(\\textrm{R}[Y])}}$\n",
        "\n",
        "Like the Pearson Coefficient, $r_{_s}$ is also scale-independent."
      ],
      "metadata": {
        "id": "hJnKuUydzsgU"
      }
    },
    {
      "cell_type": "markdown",
      "source": [
        "# $r_{_s}$ is much better at detecting nonlinear dependence!"
      ],
      "metadata": {
        "id": "MNdqnmKn1jWv"
      }
    },
    {
      "cell_type": "code",
      "source": [
        "from scipy.stats import spearmanr\n",
        "\n",
        "y = x + norm.rvs(loc=0.0, scale=0.1, size = 20) # random scatter around a linear relation\n",
        "z = 1 / x\n",
        "\n",
        "print(spearmanr(x, y)[0])\n",
        "print(spearmanr(x, z)[0])"
      ],
      "metadata": {
        "colab": {
          "base_uri": "https://localhost:8080/"
        },
        "id": "Xuy9EABpzqir",
        "outputId": "06e6d1a0-8638-42c4-b55e-fe2c2c436e68"
      },
      "execution_count": null,
      "outputs": [
        {
          "output_type": "stream",
          "name": "stdout",
          "text": [
            "0.9548872180451128\n",
            "-1.0\n"
          ]
        }
      ]
    },
    {
      "cell_type": "markdown",
      "source": [
        "# $r_{_s}$ is much more robust!"
      ],
      "metadata": {
        "id": "fW-9IisE1kjB"
      }
    },
    {
      "cell_type": "code",
      "source": [
        "x1 = np.append(x, [2, 3, 4])\n",
        "y1 = np.append(y, [0.5, 0.5, 0.5])\n",
        "\n",
        "# Compare both together:\n",
        "from scipy.stats import pearsonr, spearmanr\n",
        "pr, _ = pearsonr(x1, y1)\n",
        "sr, _ = spearmanr(x1, y1)\n",
        "print(pr)\n",
        "print(sr)"
      ],
      "metadata": {
        "colab": {
          "base_uri": "https://localhost:8080/"
        },
        "id": "cvbbFkCH1nGl",
        "outputId": "39dbe9ec-e676-4c13-c36c-998826ad6ba3"
      },
      "execution_count": null,
      "outputs": [
        {
          "output_type": "stream",
          "name": "stdout",
          "text": [
            "0.17339236084853685\n",
            "0.693373237304295\n"
          ]
        }
      ]
    },
    {
      "cell_type": "markdown",
      "source": [
        "# Rank-based statistics is in general a powerful technique that is non-parametric and more robust.\n",
        "\n",
        "# The rank-based versions of many estimators are therefore better for statistical tests."
      ],
      "metadata": {
        "id": "lTlMsTSZ2eX7"
      }
    }
  ]
}